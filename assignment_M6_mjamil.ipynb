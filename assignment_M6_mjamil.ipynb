{
 "cells": [
  {
   "cell_type": "markdown",
   "metadata": {},
   "source": [
    "# Module 6: Data Visualization and Dashboard Development"
   ]
  },
  {
   "cell_type": "markdown",
   "metadata": {},
   "source": [
    "### Submitted by :\n",
    "\n",
    "* Muhammad Bilal Jamil (mjamil@mail.yu.edu)\n",
    "\n",
    "### Submitted to : Prof. Chiazza"
   ]
  },
  {
   "cell_type": "markdown",
   "metadata": {},
   "source": [
    "\n",
    "### Part - I : Data Profiling"
   ]
  },
  {
   "cell_type": "code",
   "execution_count": 6,
   "metadata": {},
   "outputs": [],
   "source": [
    "#Importing useful libraries to work with APIs:\n",
    "import pandas as pd\n",
    "import numpy as np\n",
    "import matplotlib.pyplot as plt\n",
    "import seaborn as sns"
   ]
  },
  {
   "cell_type": "code",
   "execution_count": 8,
   "metadata": {},
   "outputs": [],
   "source": [
    "# loading the dataset into a dataframe:\n",
    "\n",
    "my_df = pd.read_csv(r'/Users/Bilal/Documents/Bilal Files/Yeshiva/Fall 2021/m6/dataset/311_Service_Requests_from_2010_to_Present.csv',nrows =100000)"
   ]
  },
  {
   "cell_type": "code",
   "execution_count": 14,
   "metadata": {},
   "outputs": [],
   "source": [
    "# exporting the dataset for tableau:\n",
    "my_df.to_csv('311_short_df.csv')"
   ]
  },
  {
   "cell_type": "code",
   "execution_count": 9,
   "metadata": {
    "scrolled": true
   },
   "outputs": [
    {
     "data": {
      "text/html": [
       "<div>\n",
       "<style scoped>\n",
       "    .dataframe tbody tr th:only-of-type {\n",
       "        vertical-align: middle;\n",
       "    }\n",
       "\n",
       "    .dataframe tbody tr th {\n",
       "        vertical-align: top;\n",
       "    }\n",
       "\n",
       "    .dataframe thead th {\n",
       "        text-align: right;\n",
       "    }\n",
       "</style>\n",
       "<table border=\"1\" class=\"dataframe\">\n",
       "  <thead>\n",
       "    <tr style=\"text-align: right;\">\n",
       "      <th></th>\n",
       "      <th>Unique Key</th>\n",
       "      <th>Created Date</th>\n",
       "      <th>Closed Date</th>\n",
       "      <th>Agency</th>\n",
       "      <th>Agency Name</th>\n",
       "      <th>Complaint Type</th>\n",
       "      <th>Descriptor</th>\n",
       "      <th>Location Type</th>\n",
       "      <th>Incident Zip</th>\n",
       "      <th>Incident Address</th>\n",
       "      <th>...</th>\n",
       "      <th>Vehicle Type</th>\n",
       "      <th>Taxi Company Borough</th>\n",
       "      <th>Taxi Pick Up Location</th>\n",
       "      <th>Bridge Highway Name</th>\n",
       "      <th>Bridge Highway Direction</th>\n",
       "      <th>Road Ramp</th>\n",
       "      <th>Bridge Highway Segment</th>\n",
       "      <th>Latitude</th>\n",
       "      <th>Longitude</th>\n",
       "      <th>Location</th>\n",
       "    </tr>\n",
       "  </thead>\n",
       "  <tbody>\n",
       "    <tr>\n",
       "      <th>0</th>\n",
       "      <td>43457650</td>\n",
       "      <td>08/03/2019 11:55:35 PM</td>\n",
       "      <td>08/04/2019 01:47:21 AM</td>\n",
       "      <td>NYPD</td>\n",
       "      <td>New York City Police Department</td>\n",
       "      <td>Noise - Street/Sidewalk</td>\n",
       "      <td>Loud Music/Party</td>\n",
       "      <td>Street/Sidewalk</td>\n",
       "      <td>10035.0</td>\n",
       "      <td>30 PALADINO AVENUE</td>\n",
       "      <td>...</td>\n",
       "      <td>NaN</td>\n",
       "      <td>NaN</td>\n",
       "      <td>NaN</td>\n",
       "      <td>NaN</td>\n",
       "      <td>NaN</td>\n",
       "      <td>NaN</td>\n",
       "      <td>NaN</td>\n",
       "      <td>40.800214</td>\n",
       "      <td>-73.930869</td>\n",
       "      <td>(40.80021380544082, -73.93086858341944)</td>\n",
       "    </tr>\n",
       "    <tr>\n",
       "      <th>1</th>\n",
       "      <td>45906196</td>\n",
       "      <td>03/27/2020 08:00:52 AM</td>\n",
       "      <td>NaN</td>\n",
       "      <td>DPR</td>\n",
       "      <td>Department of Parks and Recreation</td>\n",
       "      <td>New Tree Request</td>\n",
       "      <td>For One Address</td>\n",
       "      <td>Street</td>\n",
       "      <td>11354.0</td>\n",
       "      <td>34-13 146 STREET</td>\n",
       "      <td>...</td>\n",
       "      <td>NaN</td>\n",
       "      <td>NaN</td>\n",
       "      <td>NaN</td>\n",
       "      <td>NaN</td>\n",
       "      <td>NaN</td>\n",
       "      <td>NaN</td>\n",
       "      <td>NaN</td>\n",
       "      <td>40.766978</td>\n",
       "      <td>-73.821063</td>\n",
       "      <td>(40.766977623635555, -73.82106270538452)</td>\n",
       "    </tr>\n",
       "    <tr>\n",
       "      <th>2</th>\n",
       "      <td>45906198</td>\n",
       "      <td>03/27/2020 08:06:58 AM</td>\n",
       "      <td>NaN</td>\n",
       "      <td>DPR</td>\n",
       "      <td>Department of Parks and Recreation</td>\n",
       "      <td>New Tree Request</td>\n",
       "      <td>For One Address</td>\n",
       "      <td>Street</td>\n",
       "      <td>11354.0</td>\n",
       "      <td>33-33 146 STREET</td>\n",
       "      <td>...</td>\n",
       "      <td>NaN</td>\n",
       "      <td>NaN</td>\n",
       "      <td>NaN</td>\n",
       "      <td>NaN</td>\n",
       "      <td>NaN</td>\n",
       "      <td>NaN</td>\n",
       "      <td>NaN</td>\n",
       "      <td>40.768057</td>\n",
       "      <td>-73.821291</td>\n",
       "      <td>(40.76805666306809, -73.82129085550727)</td>\n",
       "    </tr>\n",
       "    <tr>\n",
       "      <th>3</th>\n",
       "      <td>45906213</td>\n",
       "      <td>03/27/2020 06:09:31 PM</td>\n",
       "      <td>03/27/2020 10:02:50 PM</td>\n",
       "      <td>NYPD</td>\n",
       "      <td>New York City Police Department</td>\n",
       "      <td>Noise - Residential</td>\n",
       "      <td>Banging/Pounding</td>\n",
       "      <td>Residential Building/House</td>\n",
       "      <td>10034.0</td>\n",
       "      <td>685 ACADEMY STREET</td>\n",
       "      <td>...</td>\n",
       "      <td>NaN</td>\n",
       "      <td>NaN</td>\n",
       "      <td>NaN</td>\n",
       "      <td>NaN</td>\n",
       "      <td>NaN</td>\n",
       "      <td>NaN</td>\n",
       "      <td>NaN</td>\n",
       "      <td>40.867231</td>\n",
       "      <td>-73.925564</td>\n",
       "      <td>(40.86723089460547, -73.92556363683735)</td>\n",
       "    </tr>\n",
       "    <tr>\n",
       "      <th>4</th>\n",
       "      <td>40887380</td>\n",
       "      <td>12/04/2011 04:34:14 PM</td>\n",
       "      <td>12/07/2011 12:00:00 AM</td>\n",
       "      <td>DOB</td>\n",
       "      <td>Department of Buildings</td>\n",
       "      <td>General Construction/Plumbing</td>\n",
       "      <td>Adjacent Buildings Not Protected</td>\n",
       "      <td>NaN</td>\n",
       "      <td>11216.0</td>\n",
       "      <td>1400 BEDFORD AVENUE</td>\n",
       "      <td>...</td>\n",
       "      <td>NaN</td>\n",
       "      <td>NaN</td>\n",
       "      <td>NaN</td>\n",
       "      <td>NaN</td>\n",
       "      <td>NaN</td>\n",
       "      <td>NaN</td>\n",
       "      <td>NaN</td>\n",
       "      <td>40.675257</td>\n",
       "      <td>-73.953422</td>\n",
       "      <td>(40.67525655310865, -73.95342192504857)</td>\n",
       "    </tr>\n",
       "  </tbody>\n",
       "</table>\n",
       "<p>5 rows × 41 columns</p>\n",
       "</div>"
      ],
      "text/plain": [
       "   Unique Key            Created Date             Closed Date Agency  \\\n",
       "0    43457650  08/03/2019 11:55:35 PM  08/04/2019 01:47:21 AM   NYPD   \n",
       "1    45906196  03/27/2020 08:00:52 AM                     NaN    DPR   \n",
       "2    45906198  03/27/2020 08:06:58 AM                     NaN    DPR   \n",
       "3    45906213  03/27/2020 06:09:31 PM  03/27/2020 10:02:50 PM   NYPD   \n",
       "4    40887380  12/04/2011 04:34:14 PM  12/07/2011 12:00:00 AM    DOB   \n",
       "\n",
       "                          Agency Name                 Complaint Type  \\\n",
       "0     New York City Police Department        Noise - Street/Sidewalk   \n",
       "1  Department of Parks and Recreation               New Tree Request   \n",
       "2  Department of Parks and Recreation               New Tree Request   \n",
       "3     New York City Police Department            Noise - Residential   \n",
       "4             Department of Buildings  General Construction/Plumbing   \n",
       "\n",
       "                         Descriptor               Location Type  Incident Zip  \\\n",
       "0                  Loud Music/Party             Street/Sidewalk       10035.0   \n",
       "1                   For One Address                      Street       11354.0   \n",
       "2                   For One Address                      Street       11354.0   \n",
       "3                  Banging/Pounding  Residential Building/House       10034.0   \n",
       "4  Adjacent Buildings Not Protected                         NaN       11216.0   \n",
       "\n",
       "      Incident Address  ... Vehicle Type Taxi Company Borough  \\\n",
       "0   30 PALADINO AVENUE  ...          NaN                  NaN   \n",
       "1     34-13 146 STREET  ...          NaN                  NaN   \n",
       "2     33-33 146 STREET  ...          NaN                  NaN   \n",
       "3   685 ACADEMY STREET  ...          NaN                  NaN   \n",
       "4  1400 BEDFORD AVENUE  ...          NaN                  NaN   \n",
       "\n",
       "  Taxi Pick Up Location Bridge Highway Name Bridge Highway Direction  \\\n",
       "0                   NaN                 NaN                      NaN   \n",
       "1                   NaN                 NaN                      NaN   \n",
       "2                   NaN                 NaN                      NaN   \n",
       "3                   NaN                 NaN                      NaN   \n",
       "4                   NaN                 NaN                      NaN   \n",
       "\n",
       "  Road Ramp Bridge Highway Segment   Latitude  Longitude  \\\n",
       "0       NaN                    NaN  40.800214 -73.930869   \n",
       "1       NaN                    NaN  40.766978 -73.821063   \n",
       "2       NaN                    NaN  40.768057 -73.821291   \n",
       "3       NaN                    NaN  40.867231 -73.925564   \n",
       "4       NaN                    NaN  40.675257 -73.953422   \n",
       "\n",
       "                                   Location  \n",
       "0   (40.80021380544082, -73.93086858341944)  \n",
       "1  (40.766977623635555, -73.82106270538452)  \n",
       "2   (40.76805666306809, -73.82129085550727)  \n",
       "3   (40.86723089460547, -73.92556363683735)  \n",
       "4   (40.67525655310865, -73.95342192504857)  \n",
       "\n",
       "[5 rows x 41 columns]"
      ]
     },
     "execution_count": 9,
     "metadata": {},
     "output_type": "execute_result"
    }
   ],
   "source": [
    "#viewwing the head of the dataframe:\n",
    "my_df.head()"
   ]
  },
  {
   "cell_type": "code",
   "execution_count": 10,
   "metadata": {},
   "outputs": [
    {
     "data": {
      "text/html": [
       "<div>\n",
       "<style scoped>\n",
       "    .dataframe tbody tr th:only-of-type {\n",
       "        vertical-align: middle;\n",
       "    }\n",
       "\n",
       "    .dataframe tbody tr th {\n",
       "        vertical-align: top;\n",
       "    }\n",
       "\n",
       "    .dataframe thead th {\n",
       "        text-align: right;\n",
       "    }\n",
       "</style>\n",
       "<table border=\"1\" class=\"dataframe\">\n",
       "  <thead>\n",
       "    <tr style=\"text-align: right;\">\n",
       "      <th></th>\n",
       "      <th>Unique Key</th>\n",
       "      <th>Created Date</th>\n",
       "      <th>Closed Date</th>\n",
       "      <th>Agency</th>\n",
       "      <th>Agency Name</th>\n",
       "      <th>Complaint Type</th>\n",
       "      <th>Descriptor</th>\n",
       "      <th>Location Type</th>\n",
       "      <th>Incident Zip</th>\n",
       "      <th>Incident Address</th>\n",
       "      <th>...</th>\n",
       "      <th>Vehicle Type</th>\n",
       "      <th>Taxi Company Borough</th>\n",
       "      <th>Taxi Pick Up Location</th>\n",
       "      <th>Bridge Highway Name</th>\n",
       "      <th>Bridge Highway Direction</th>\n",
       "      <th>Road Ramp</th>\n",
       "      <th>Bridge Highway Segment</th>\n",
       "      <th>Latitude</th>\n",
       "      <th>Longitude</th>\n",
       "      <th>Location</th>\n",
       "    </tr>\n",
       "  </thead>\n",
       "  <tbody>\n",
       "    <tr>\n",
       "      <th>99995</th>\n",
       "      <td>45998722</td>\n",
       "      <td>04/14/2020 02:21:43 PM</td>\n",
       "      <td>04/15/2020 04:36:14 PM</td>\n",
       "      <td>DCA</td>\n",
       "      <td>Department of Consumer Affairs</td>\n",
       "      <td>Consumer Complaint</td>\n",
       "      <td>Retail Store</td>\n",
       "      <td>NaN</td>\n",
       "      <td>11432.0</td>\n",
       "      <td>89-05 165 STREET</td>\n",
       "      <td>...</td>\n",
       "      <td>NaN</td>\n",
       "      <td>NaN</td>\n",
       "      <td>NaN</td>\n",
       "      <td>NaN</td>\n",
       "      <td>NaN</td>\n",
       "      <td>NaN</td>\n",
       "      <td>NaN</td>\n",
       "      <td>40.707386</td>\n",
       "      <td>-73.796090</td>\n",
       "      <td>(40.707385819986854, -73.79609006756534)</td>\n",
       "    </tr>\n",
       "    <tr>\n",
       "      <th>99996</th>\n",
       "      <td>45998723</td>\n",
       "      <td>04/14/2020 08:47:16 PM</td>\n",
       "      <td>04/15/2020 11:04:46 AM</td>\n",
       "      <td>DCA</td>\n",
       "      <td>Department of Consumer Affairs</td>\n",
       "      <td>Consumer Complaint</td>\n",
       "      <td>Retail Store</td>\n",
       "      <td>NaN</td>\n",
       "      <td>10012.0</td>\n",
       "      <td>144 BLEEKER STREET</td>\n",
       "      <td>...</td>\n",
       "      <td>NaN</td>\n",
       "      <td>NaN</td>\n",
       "      <td>NaN</td>\n",
       "      <td>NaN</td>\n",
       "      <td>NaN</td>\n",
       "      <td>NaN</td>\n",
       "      <td>NaN</td>\n",
       "      <td>40.728155</td>\n",
       "      <td>-73.999152</td>\n",
       "      <td>(40.7281548671045, -73.99915212570546)</td>\n",
       "    </tr>\n",
       "    <tr>\n",
       "      <th>99997</th>\n",
       "      <td>45998724</td>\n",
       "      <td>04/14/2020 02:36:33 PM</td>\n",
       "      <td>04/15/2020 10:04:27 AM</td>\n",
       "      <td>DCA</td>\n",
       "      <td>Department of Consumer Affairs</td>\n",
       "      <td>Consumer Complaint</td>\n",
       "      <td>Retail Store</td>\n",
       "      <td>NaN</td>\n",
       "      <td>11214.0</td>\n",
       "      <td>2483 86 STREET</td>\n",
       "      <td>...</td>\n",
       "      <td>NaN</td>\n",
       "      <td>NaN</td>\n",
       "      <td>NaN</td>\n",
       "      <td>NaN</td>\n",
       "      <td>NaN</td>\n",
       "      <td>NaN</td>\n",
       "      <td>NaN</td>\n",
       "      <td>40.598104</td>\n",
       "      <td>-73.987472</td>\n",
       "      <td>(40.59810385348373, -73.9874723008562)</td>\n",
       "    </tr>\n",
       "    <tr>\n",
       "      <th>99998</th>\n",
       "      <td>45998725</td>\n",
       "      <td>04/14/2020 08:52:31 PM</td>\n",
       "      <td>04/15/2020 02:08:45 PM</td>\n",
       "      <td>DCA</td>\n",
       "      <td>Department of Consumer Affairs</td>\n",
       "      <td>Consumer Complaint</td>\n",
       "      <td>Retail Store</td>\n",
       "      <td>NaN</td>\n",
       "      <td>10011.0</td>\n",
       "      <td>360 6 AVENUE</td>\n",
       "      <td>...</td>\n",
       "      <td>NaN</td>\n",
       "      <td>NaN</td>\n",
       "      <td>NaN</td>\n",
       "      <td>NaN</td>\n",
       "      <td>NaN</td>\n",
       "      <td>NaN</td>\n",
       "      <td>NaN</td>\n",
       "      <td>40.732450</td>\n",
       "      <td>-74.000401</td>\n",
       "      <td>(40.7324504115344, -74.00040051112187)</td>\n",
       "    </tr>\n",
       "    <tr>\n",
       "      <th>99999</th>\n",
       "      <td>45998726</td>\n",
       "      <td>04/14/2020 11:42:34 AM</td>\n",
       "      <td>06/23/2020 01:36:27 PM</td>\n",
       "      <td>DPR</td>\n",
       "      <td>Department of Parks and Recreation</td>\n",
       "      <td>Damaged Tree</td>\n",
       "      <td>Branch or Limb Has Fallen Down</td>\n",
       "      <td>Street</td>\n",
       "      <td>11422.0</td>\n",
       "      <td>131-28 233 STREET</td>\n",
       "      <td>...</td>\n",
       "      <td>NaN</td>\n",
       "      <td>NaN</td>\n",
       "      <td>NaN</td>\n",
       "      <td>NaN</td>\n",
       "      <td>NaN</td>\n",
       "      <td>NaN</td>\n",
       "      <td>NaN</td>\n",
       "      <td>40.678132</td>\n",
       "      <td>-73.735214</td>\n",
       "      <td>(40.678131520100735, -73.73521419056691)</td>\n",
       "    </tr>\n",
       "  </tbody>\n",
       "</table>\n",
       "<p>5 rows × 41 columns</p>\n",
       "</div>"
      ],
      "text/plain": [
       "       Unique Key            Created Date             Closed Date Agency  \\\n",
       "99995    45998722  04/14/2020 02:21:43 PM  04/15/2020 04:36:14 PM    DCA   \n",
       "99996    45998723  04/14/2020 08:47:16 PM  04/15/2020 11:04:46 AM    DCA   \n",
       "99997    45998724  04/14/2020 02:36:33 PM  04/15/2020 10:04:27 AM    DCA   \n",
       "99998    45998725  04/14/2020 08:52:31 PM  04/15/2020 02:08:45 PM    DCA   \n",
       "99999    45998726  04/14/2020 11:42:34 AM  06/23/2020 01:36:27 PM    DPR   \n",
       "\n",
       "                              Agency Name      Complaint Type  \\\n",
       "99995      Department of Consumer Affairs  Consumer Complaint   \n",
       "99996      Department of Consumer Affairs  Consumer Complaint   \n",
       "99997      Department of Consumer Affairs  Consumer Complaint   \n",
       "99998      Department of Consumer Affairs  Consumer Complaint   \n",
       "99999  Department of Parks and Recreation        Damaged Tree   \n",
       "\n",
       "                           Descriptor Location Type  Incident Zip  \\\n",
       "99995                    Retail Store           NaN       11432.0   \n",
       "99996                    Retail Store           NaN       10012.0   \n",
       "99997                    Retail Store           NaN       11214.0   \n",
       "99998                    Retail Store           NaN       10011.0   \n",
       "99999  Branch or Limb Has Fallen Down        Street       11422.0   \n",
       "\n",
       "         Incident Address  ... Vehicle Type Taxi Company Borough  \\\n",
       "99995    89-05 165 STREET  ...          NaN                  NaN   \n",
       "99996  144 BLEEKER STREET  ...          NaN                  NaN   \n",
       "99997      2483 86 STREET  ...          NaN                  NaN   \n",
       "99998        360 6 AVENUE  ...          NaN                  NaN   \n",
       "99999   131-28 233 STREET  ...          NaN                  NaN   \n",
       "\n",
       "      Taxi Pick Up Location Bridge Highway Name Bridge Highway Direction  \\\n",
       "99995                   NaN                 NaN                      NaN   \n",
       "99996                   NaN                 NaN                      NaN   \n",
       "99997                   NaN                 NaN                      NaN   \n",
       "99998                   NaN                 NaN                      NaN   \n",
       "99999                   NaN                 NaN                      NaN   \n",
       "\n",
       "      Road Ramp Bridge Highway Segment   Latitude  Longitude  \\\n",
       "99995       NaN                    NaN  40.707386 -73.796090   \n",
       "99996       NaN                    NaN  40.728155 -73.999152   \n",
       "99997       NaN                    NaN  40.598104 -73.987472   \n",
       "99998       NaN                    NaN  40.732450 -74.000401   \n",
       "99999       NaN                    NaN  40.678132 -73.735214   \n",
       "\n",
       "                                       Location  \n",
       "99995  (40.707385819986854, -73.79609006756534)  \n",
       "99996    (40.7281548671045, -73.99915212570546)  \n",
       "99997    (40.59810385348373, -73.9874723008562)  \n",
       "99998    (40.7324504115344, -74.00040051112187)  \n",
       "99999  (40.678131520100735, -73.73521419056691)  \n",
       "\n",
       "[5 rows x 41 columns]"
      ]
     },
     "execution_count": 10,
     "metadata": {},
     "output_type": "execute_result"
    }
   ],
   "source": [
    "#viewwing the tail of the dataframe:\n",
    "\n",
    "my_df.tail()"
   ]
  },
  {
   "cell_type": "code",
   "execution_count": null,
   "metadata": {},
   "outputs": [],
   "source": []
  },
  {
   "cell_type": "code",
   "execution_count": 36,
   "metadata": {},
   "outputs": [
    {
     "data": {
      "text/html": [
       "<div>\n",
       "<style scoped>\n",
       "    .dataframe tbody tr th:only-of-type {\n",
       "        vertical-align: middle;\n",
       "    }\n",
       "\n",
       "    .dataframe tbody tr th {\n",
       "        vertical-align: top;\n",
       "    }\n",
       "\n",
       "    .dataframe thead th {\n",
       "        text-align: right;\n",
       "    }\n",
       "</style>\n",
       "<table border=\"1\" class=\"dataframe\">\n",
       "  <thead>\n",
       "    <tr style=\"text-align: right;\">\n",
       "      <th></th>\n",
       "      <th>0</th>\n",
       "    </tr>\n",
       "  </thead>\n",
       "  <tbody>\n",
       "    <tr>\n",
       "      <th>Unique Key</th>\n",
       "      <td>0.0000</td>\n",
       "    </tr>\n",
       "    <tr>\n",
       "      <th>Created Date</th>\n",
       "      <td>0.0000</td>\n",
       "    </tr>\n",
       "    <tr>\n",
       "      <th>Closed Date</th>\n",
       "      <td>0.0436</td>\n",
       "    </tr>\n",
       "    <tr>\n",
       "      <th>Agency</th>\n",
       "      <td>0.0000</td>\n",
       "    </tr>\n",
       "    <tr>\n",
       "      <th>Agency Name</th>\n",
       "      <td>0.0000</td>\n",
       "    </tr>\n",
       "    <tr>\n",
       "      <th>Complaint Type</th>\n",
       "      <td>0.0000</td>\n",
       "    </tr>\n",
       "    <tr>\n",
       "      <th>Descriptor</th>\n",
       "      <td>0.0227</td>\n",
       "    </tr>\n",
       "    <tr>\n",
       "      <th>Location Type</th>\n",
       "      <td>0.3387</td>\n",
       "    </tr>\n",
       "    <tr>\n",
       "      <th>Incident Zip</th>\n",
       "      <td>0.0258</td>\n",
       "    </tr>\n",
       "    <tr>\n",
       "      <th>Incident Address</th>\n",
       "      <td>0.0646</td>\n",
       "    </tr>\n",
       "    <tr>\n",
       "      <th>Street Name</th>\n",
       "      <td>0.0646</td>\n",
       "    </tr>\n",
       "    <tr>\n",
       "      <th>Cross Street 1</th>\n",
       "      <td>0.2886</td>\n",
       "    </tr>\n",
       "    <tr>\n",
       "      <th>Cross Street 2</th>\n",
       "      <td>0.2908</td>\n",
       "    </tr>\n",
       "    <tr>\n",
       "      <th>Intersection Street 1</th>\n",
       "      <td>0.4023</td>\n",
       "    </tr>\n",
       "    <tr>\n",
       "      <th>Intersection Street 2</th>\n",
       "      <td>0.4028</td>\n",
       "    </tr>\n",
       "    <tr>\n",
       "      <th>Address Type</th>\n",
       "      <td>0.4510</td>\n",
       "    </tr>\n",
       "    <tr>\n",
       "      <th>City</th>\n",
       "      <td>0.0584</td>\n",
       "    </tr>\n",
       "    <tr>\n",
       "      <th>Landmark</th>\n",
       "      <td>0.5687</td>\n",
       "    </tr>\n",
       "    <tr>\n",
       "      <th>Facility Type</th>\n",
       "      <td>0.9591</td>\n",
       "    </tr>\n",
       "    <tr>\n",
       "      <th>Status</th>\n",
       "      <td>0.0000</td>\n",
       "    </tr>\n",
       "    <tr>\n",
       "      <th>Due Date</th>\n",
       "      <td>0.8320</td>\n",
       "    </tr>\n",
       "    <tr>\n",
       "      <th>Resolution Description</th>\n",
       "      <td>0.0201</td>\n",
       "    </tr>\n",
       "    <tr>\n",
       "      <th>Resolution Action Updated Date</th>\n",
       "      <td>0.0140</td>\n",
       "    </tr>\n",
       "    <tr>\n",
       "      <th>Community Board</th>\n",
       "      <td>0.0027</td>\n",
       "    </tr>\n",
       "    <tr>\n",
       "      <th>BBL</th>\n",
       "      <td>0.1496</td>\n",
       "    </tr>\n",
       "    <tr>\n",
       "      <th>Borough</th>\n",
       "      <td>0.0027</td>\n",
       "    </tr>\n",
       "    <tr>\n",
       "      <th>X Coordinate (State Plane)</th>\n",
       "      <td>0.0485</td>\n",
       "    </tr>\n",
       "    <tr>\n",
       "      <th>Y Coordinate (State Plane)</th>\n",
       "      <td>0.0485</td>\n",
       "    </tr>\n",
       "    <tr>\n",
       "      <th>Open Data Channel Type</th>\n",
       "      <td>0.0000</td>\n",
       "    </tr>\n",
       "    <tr>\n",
       "      <th>Park Facility Name</th>\n",
       "      <td>0.0000</td>\n",
       "    </tr>\n",
       "    <tr>\n",
       "      <th>Park Borough</th>\n",
       "      <td>0.0027</td>\n",
       "    </tr>\n",
       "    <tr>\n",
       "      <th>Vehicle Type</th>\n",
       "      <td>0.9996</td>\n",
       "    </tr>\n",
       "    <tr>\n",
       "      <th>Taxi Company Borough</th>\n",
       "      <td>0.9989</td>\n",
       "    </tr>\n",
       "    <tr>\n",
       "      <th>Taxi Pick Up Location</th>\n",
       "      <td>0.9850</td>\n",
       "    </tr>\n",
       "    <tr>\n",
       "      <th>Bridge Highway Name</th>\n",
       "      <td>0.9990</td>\n",
       "    </tr>\n",
       "    <tr>\n",
       "      <th>Bridge Highway Direction</th>\n",
       "      <td>0.9991</td>\n",
       "    </tr>\n",
       "    <tr>\n",
       "      <th>Road Ramp</th>\n",
       "      <td>0.9991</td>\n",
       "    </tr>\n",
       "    <tr>\n",
       "      <th>Bridge Highway Segment</th>\n",
       "      <td>0.9985</td>\n",
       "    </tr>\n",
       "    <tr>\n",
       "      <th>Latitude</th>\n",
       "      <td>0.0485</td>\n",
       "    </tr>\n",
       "    <tr>\n",
       "      <th>Longitude</th>\n",
       "      <td>0.0485</td>\n",
       "    </tr>\n",
       "    <tr>\n",
       "      <th>Location</th>\n",
       "      <td>0.0485</td>\n",
       "    </tr>\n",
       "  </tbody>\n",
       "</table>\n",
       "</div>"
      ],
      "text/plain": [
       "                                     0\n",
       "Unique Key                      0.0000\n",
       "Created Date                    0.0000\n",
       "Closed Date                     0.0436\n",
       "Agency                          0.0000\n",
       "Agency Name                     0.0000\n",
       "Complaint Type                  0.0000\n",
       "Descriptor                      0.0227\n",
       "Location Type                   0.3387\n",
       "Incident Zip                    0.0258\n",
       "Incident Address                0.0646\n",
       "Street Name                     0.0646\n",
       "Cross Street 1                  0.2886\n",
       "Cross Street 2                  0.2908\n",
       "Intersection Street 1           0.4023\n",
       "Intersection Street 2           0.4028\n",
       "Address Type                    0.4510\n",
       "City                            0.0584\n",
       "Landmark                        0.5687\n",
       "Facility Type                   0.9591\n",
       "Status                          0.0000\n",
       "Due Date                        0.8320\n",
       "Resolution Description          0.0201\n",
       "Resolution Action Updated Date  0.0140\n",
       "Community Board                 0.0027\n",
       "BBL                             0.1496\n",
       "Borough                         0.0027\n",
       "X Coordinate (State Plane)      0.0485\n",
       "Y Coordinate (State Plane)      0.0485\n",
       "Open Data Channel Type          0.0000\n",
       "Park Facility Name              0.0000\n",
       "Park Borough                    0.0027\n",
       "Vehicle Type                    0.9996\n",
       "Taxi Company Borough            0.9989\n",
       "Taxi Pick Up Location           0.9850\n",
       "Bridge Highway Name             0.9990\n",
       "Bridge Highway Direction        0.9991\n",
       "Road Ramp                       0.9991\n",
       "Bridge Highway Segment          0.9985\n",
       "Latitude                        0.0485\n",
       "Longitude                       0.0485\n",
       "Location                        0.0485"
      ]
     },
     "execution_count": 36,
     "metadata": {},
     "output_type": "execute_result"
    }
   ],
   "source": [
    "#we will now find the null rate:\n",
    "null_rate = my_df.isna().mean().round(4).to_frame()\n",
    "null_rate"
   ]
  },
  {
   "cell_type": "code",
   "execution_count": 9,
   "metadata": {},
   "outputs": [
    {
     "data": {
      "text/html": [
       "<div>\n",
       "<style scoped>\n",
       "    .dataframe tbody tr th:only-of-type {\n",
       "        vertical-align: middle;\n",
       "    }\n",
       "\n",
       "    .dataframe tbody tr th {\n",
       "        vertical-align: top;\n",
       "    }\n",
       "\n",
       "    .dataframe thead th {\n",
       "        text-align: right;\n",
       "    }\n",
       "</style>\n",
       "<table border=\"1\" class=\"dataframe\">\n",
       "  <thead>\n",
       "    <tr style=\"text-align: right;\">\n",
       "      <th></th>\n",
       "      <th>Column Name</th>\n",
       "      <th>number of unique values</th>\n",
       "      <th>most popululous column</th>\n",
       "      <th>count</th>\n",
       "    </tr>\n",
       "  </thead>\n",
       "  <tbody>\n",
       "    <tr>\n",
       "      <th>0</th>\n",
       "      <td>Created Date</td>\n",
       "      <td>94053</td>\n",
       "      <td>11/03/2010 12:00:00 AM</td>\n",
       "      <td>160</td>\n",
       "    </tr>\n",
       "    <tr>\n",
       "      <th>1</th>\n",
       "      <td>Closed Date</td>\n",
       "      <td>71244</td>\n",
       "      <td>11/15/2010 12:00:00 AM</td>\n",
       "      <td>310</td>\n",
       "    </tr>\n",
       "    <tr>\n",
       "      <th>2</th>\n",
       "      <td>Agency</td>\n",
       "      <td>22</td>\n",
       "      <td>NYPD</td>\n",
       "      <td>37504</td>\n",
       "    </tr>\n",
       "    <tr>\n",
       "      <th>3</th>\n",
       "      <td>Agency Name</td>\n",
       "      <td>122</td>\n",
       "      <td>New York City Police Department</td>\n",
       "      <td>37503</td>\n",
       "    </tr>\n",
       "    <tr>\n",
       "      <th>4</th>\n",
       "      <td>Complaint Type</td>\n",
       "      <td>216</td>\n",
       "      <td>Noise - Residential</td>\n",
       "      <td>13206</td>\n",
       "    </tr>\n",
       "    <tr>\n",
       "      <th>5</th>\n",
       "      <td>Descriptor</td>\n",
       "      <td>897</td>\n",
       "      <td>Loud Music/Party</td>\n",
       "      <td>11911</td>\n",
       "    </tr>\n",
       "    <tr>\n",
       "      <th>6</th>\n",
       "      <td>Location Type</td>\n",
       "      <td>123</td>\n",
       "      <td>Street/Sidewalk</td>\n",
       "      <td>14567</td>\n",
       "    </tr>\n",
       "    <tr>\n",
       "      <th>7</th>\n",
       "      <td>Incident Address</td>\n",
       "      <td>61892</td>\n",
       "      <td>903 EAST    6 STREET</td>\n",
       "      <td>184</td>\n",
       "    </tr>\n",
       "    <tr>\n",
       "      <th>8</th>\n",
       "      <td>Street Name</td>\n",
       "      <td>6507</td>\n",
       "      <td>BROADWAY</td>\n",
       "      <td>1379</td>\n",
       "    </tr>\n",
       "    <tr>\n",
       "      <th>9</th>\n",
       "      <td>Cross Street 1</td>\n",
       "      <td>8461</td>\n",
       "      <td>BEND</td>\n",
       "      <td>1406</td>\n",
       "    </tr>\n",
       "    <tr>\n",
       "      <th>10</th>\n",
       "      <td>Cross Street 2</td>\n",
       "      <td>7502</td>\n",
       "      <td>BEND</td>\n",
       "      <td>1392</td>\n",
       "    </tr>\n",
       "    <tr>\n",
       "      <th>11</th>\n",
       "      <td>Intersection Street 1</td>\n",
       "      <td>5653</td>\n",
       "      <td>BEND</td>\n",
       "      <td>1217</td>\n",
       "    </tr>\n",
       "    <tr>\n",
       "      <th>12</th>\n",
       "      <td>Intersection Street 2</td>\n",
       "      <td>5758</td>\n",
       "      <td>BEND</td>\n",
       "      <td>1109</td>\n",
       "    </tr>\n",
       "    <tr>\n",
       "      <th>13</th>\n",
       "      <td>Address Type</td>\n",
       "      <td>6</td>\n",
       "      <td>ADDRESS</td>\n",
       "      <td>47311</td>\n",
       "    </tr>\n",
       "    <tr>\n",
       "      <th>14</th>\n",
       "      <td>City</td>\n",
       "      <td>118</td>\n",
       "      <td>BROOKLYN</td>\n",
       "      <td>29617</td>\n",
       "    </tr>\n",
       "    <tr>\n",
       "      <th>15</th>\n",
       "      <td>Landmark</td>\n",
       "      <td>4021</td>\n",
       "      <td>BROADWAY</td>\n",
       "      <td>687</td>\n",
       "    </tr>\n",
       "    <tr>\n",
       "      <th>16</th>\n",
       "      <td>Facility Type</td>\n",
       "      <td>4</td>\n",
       "      <td>Precinct</td>\n",
       "      <td>2006</td>\n",
       "    </tr>\n",
       "    <tr>\n",
       "      <th>17</th>\n",
       "      <td>Status</td>\n",
       "      <td>7</td>\n",
       "      <td>Closed</td>\n",
       "      <td>95096</td>\n",
       "    </tr>\n",
       "    <tr>\n",
       "      <th>18</th>\n",
       "      <td>Due Date</td>\n",
       "      <td>16191</td>\n",
       "      <td>02/29/2020 03:53:21 PM</td>\n",
       "      <td>86</td>\n",
       "    </tr>\n",
       "    <tr>\n",
       "      <th>19</th>\n",
       "      <td>Resolution Description</td>\n",
       "      <td>683</td>\n",
       "      <td>The Police Department responded to the complai...</td>\n",
       "      <td>13938</td>\n",
       "    </tr>\n",
       "    <tr>\n",
       "      <th>20</th>\n",
       "      <td>Resolution Action Updated Date</td>\n",
       "      <td>67157</td>\n",
       "      <td>04/04/2021 12:00:00 AM</td>\n",
       "      <td>1012</td>\n",
       "    </tr>\n",
       "    <tr>\n",
       "      <th>21</th>\n",
       "      <td>Community Board</td>\n",
       "      <td>77</td>\n",
       "      <td>01 BROOKLYN</td>\n",
       "      <td>3051</td>\n",
       "    </tr>\n",
       "    <tr>\n",
       "      <th>22</th>\n",
       "      <td>Borough</td>\n",
       "      <td>6</td>\n",
       "      <td>BROOKLYN</td>\n",
       "      <td>30812</td>\n",
       "    </tr>\n",
       "    <tr>\n",
       "      <th>23</th>\n",
       "      <td>Open Data Channel Type</td>\n",
       "      <td>5</td>\n",
       "      <td>PHONE</td>\n",
       "      <td>36917</td>\n",
       "    </tr>\n",
       "    <tr>\n",
       "      <th>24</th>\n",
       "      <td>Park Facility Name</td>\n",
       "      <td>534</td>\n",
       "      <td>Unspecified</td>\n",
       "      <td>98932</td>\n",
       "    </tr>\n",
       "    <tr>\n",
       "      <th>25</th>\n",
       "      <td>Park Borough</td>\n",
       "      <td>6</td>\n",
       "      <td>BROOKLYN</td>\n",
       "      <td>30812</td>\n",
       "    </tr>\n",
       "    <tr>\n",
       "      <th>26</th>\n",
       "      <td>Vehicle Type</td>\n",
       "      <td>3</td>\n",
       "      <td>Car Service</td>\n",
       "      <td>37</td>\n",
       "    </tr>\n",
       "    <tr>\n",
       "      <th>27</th>\n",
       "      <td>Taxi Company Borough</td>\n",
       "      <td>5</td>\n",
       "      <td>BROOKLYN</td>\n",
       "      <td>32</td>\n",
       "    </tr>\n",
       "    <tr>\n",
       "      <th>28</th>\n",
       "      <td>Taxi Pick Up Location</td>\n",
       "      <td>1145</td>\n",
       "      <td>Other</td>\n",
       "      <td>130</td>\n",
       "    </tr>\n",
       "    <tr>\n",
       "      <th>29</th>\n",
       "      <td>Bridge Highway Name</td>\n",
       "      <td>31</td>\n",
       "      <td>BQE/Gowanus Expwy</td>\n",
       "      <td>16</td>\n",
       "    </tr>\n",
       "    <tr>\n",
       "      <th>30</th>\n",
       "      <td>Bridge Highway Direction</td>\n",
       "      <td>31</td>\n",
       "      <td>West/Brooklyn Bound</td>\n",
       "      <td>11</td>\n",
       "    </tr>\n",
       "    <tr>\n",
       "      <th>31</th>\n",
       "      <td>Road Ramp</td>\n",
       "      <td>3</td>\n",
       "      <td>Roadway</td>\n",
       "      <td>59</td>\n",
       "    </tr>\n",
       "    <tr>\n",
       "      <th>32</th>\n",
       "      <td>Bridge Highway Segment</td>\n",
       "      <td>131</td>\n",
       "      <td>Ramp</td>\n",
       "      <td>4</td>\n",
       "    </tr>\n",
       "    <tr>\n",
       "      <th>33</th>\n",
       "      <td>Location</td>\n",
       "      <td>64831</td>\n",
       "      <td>(40.72206171900599, -73.9758395953869)</td>\n",
       "      <td>184</td>\n",
       "    </tr>\n",
       "  </tbody>\n",
       "</table>\n",
       "</div>"
      ],
      "text/plain": [
       "                       Column Name  number of unique values  \\\n",
       "0                     Created Date                    94053   \n",
       "1                      Closed Date                    71244   \n",
       "2                           Agency                       22   \n",
       "3                      Agency Name                      122   \n",
       "4                   Complaint Type                      216   \n",
       "5                       Descriptor                      897   \n",
       "6                    Location Type                      123   \n",
       "7                 Incident Address                    61892   \n",
       "8                      Street Name                     6507   \n",
       "9                   Cross Street 1                     8461   \n",
       "10                  Cross Street 2                     7502   \n",
       "11           Intersection Street 1                     5653   \n",
       "12           Intersection Street 2                     5758   \n",
       "13                    Address Type                        6   \n",
       "14                            City                      118   \n",
       "15                        Landmark                     4021   \n",
       "16                   Facility Type                        4   \n",
       "17                          Status                        7   \n",
       "18                        Due Date                    16191   \n",
       "19          Resolution Description                      683   \n",
       "20  Resolution Action Updated Date                    67157   \n",
       "21                 Community Board                       77   \n",
       "22                         Borough                        6   \n",
       "23          Open Data Channel Type                        5   \n",
       "24              Park Facility Name                      534   \n",
       "25                    Park Borough                        6   \n",
       "26                    Vehicle Type                        3   \n",
       "27            Taxi Company Borough                        5   \n",
       "28           Taxi Pick Up Location                     1145   \n",
       "29             Bridge Highway Name                       31   \n",
       "30        Bridge Highway Direction                       31   \n",
       "31                       Road Ramp                        3   \n",
       "32          Bridge Highway Segment                      131   \n",
       "33                        Location                    64831   \n",
       "\n",
       "                               most popululous column  count  \n",
       "0                              11/03/2010 12:00:00 AM    160  \n",
       "1                              11/15/2010 12:00:00 AM    310  \n",
       "2                                                NYPD  37504  \n",
       "3                     New York City Police Department  37503  \n",
       "4                                 Noise - Residential  13206  \n",
       "5                                    Loud Music/Party  11911  \n",
       "6                                     Street/Sidewalk  14567  \n",
       "7                                903 EAST    6 STREET    184  \n",
       "8                                            BROADWAY   1379  \n",
       "9                                                BEND   1406  \n",
       "10                                               BEND   1392  \n",
       "11                                               BEND   1217  \n",
       "12                                               BEND   1109  \n",
       "13                                            ADDRESS  47311  \n",
       "14                                           BROOKLYN  29617  \n",
       "15                                           BROADWAY    687  \n",
       "16                                           Precinct   2006  \n",
       "17                                             Closed  95096  \n",
       "18                             02/29/2020 03:53:21 PM     86  \n",
       "19  The Police Department responded to the complai...  13938  \n",
       "20                             04/04/2021 12:00:00 AM   1012  \n",
       "21                                        01 BROOKLYN   3051  \n",
       "22                                           BROOKLYN  30812  \n",
       "23                                              PHONE  36917  \n",
       "24                                        Unspecified  98932  \n",
       "25                                           BROOKLYN  30812  \n",
       "26                                        Car Service     37  \n",
       "27                                           BROOKLYN     32  \n",
       "28                                              Other    130  \n",
       "29                                  BQE/Gowanus Expwy     16  \n",
       "30                                West/Brooklyn Bound     11  \n",
       "31                                            Roadway     59  \n",
       "32                                               Ramp      4  \n",
       "33             (40.72206171900599, -73.9758395953869)    184  "
      ]
     },
     "execution_count": 9,
     "metadata": {},
     "output_type": "execute_result"
    }
   ],
   "source": [
    "# we will now find data information for categorical data:\n",
    "\n",
    "stats = [] #record holder\n",
    "\n",
    "# loop through non numerical columns to exclude them\n",
    "for i in my_df.select_dtypes(exclude =['int64','float64']).columns:\n",
    "    record = [] # initialize empty list\n",
    "    record.append(i) #column name\n",
    "    record.append(my_df[i].nunique()) # numer of unique values\n",
    "    record.append(my_df[i].value_counts().index[0]) #modal value\n",
    "    record.append(my_df[i].value_counts()[0]) # count of modal value\n",
    "    stats.append(record) #add record to larger array\n",
    "    \n",
    "#list to data frame\n",
    "columns = ['Column Name','number of unique values','most popululous column','count']    \n",
    " \n",
    "stats_df = pd.DataFrame(data=stats,columns=columns)\n",
    "stats_df"
   ]
  },
  {
   "cell_type": "code",
   "execution_count": 39,
   "metadata": {},
   "outputs": [],
   "source": [
    "#exporting the results to an excel sheet for easy manipulation:\n",
    "\n",
    "stats_df.to_excel(r'D:\\Yeshiva\\Fall 2021\\m6\\dataset\\stats_df.xlsx', index = False)"
   ]
  },
  {
   "cell_type": "code",
   "execution_count": 10,
   "metadata": {},
   "outputs": [
    {
     "data": {
      "text/html": [
       "<div>\n",
       "<style scoped>\n",
       "    .dataframe tbody tr th:only-of-type {\n",
       "        vertical-align: middle;\n",
       "    }\n",
       "\n",
       "    .dataframe tbody tr th {\n",
       "        vertical-align: top;\n",
       "    }\n",
       "\n",
       "    .dataframe thead th {\n",
       "        text-align: right;\n",
       "    }\n",
       "</style>\n",
       "<table border=\"1\" class=\"dataframe\">\n",
       "  <thead>\n",
       "    <tr style=\"text-align: right;\">\n",
       "      <th></th>\n",
       "      <th>Column Name</th>\n",
       "      <th>mean</th>\n",
       "      <th>std_div</th>\n",
       "    </tr>\n",
       "  </thead>\n",
       "  <tbody>\n",
       "    <tr>\n",
       "      <th>0</th>\n",
       "      <td>Unique Key</td>\n",
       "      <td>4.303587e+07</td>\n",
       "      <td>7.295524e+06</td>\n",
       "    </tr>\n",
       "    <tr>\n",
       "      <th>1</th>\n",
       "      <td>Incident Zip</td>\n",
       "      <td>1.079975e+04</td>\n",
       "      <td>6.687770e+02</td>\n",
       "    </tr>\n",
       "    <tr>\n",
       "      <th>2</th>\n",
       "      <td>BBL</td>\n",
       "      <td>2.706863e+09</td>\n",
       "      <td>1.203044e+09</td>\n",
       "    </tr>\n",
       "    <tr>\n",
       "      <th>3</th>\n",
       "      <td>X Coordinate (State Plane)</td>\n",
       "      <td>1.004309e+06</td>\n",
       "      <td>2.193337e+04</td>\n",
       "    </tr>\n",
       "    <tr>\n",
       "      <th>4</th>\n",
       "      <td>Y Coordinate (State Plane)</td>\n",
       "      <td>2.056019e+05</td>\n",
       "      <td>3.038311e+04</td>\n",
       "    </tr>\n",
       "    <tr>\n",
       "      <th>5</th>\n",
       "      <td>Latitude</td>\n",
       "      <td>4.073095e+01</td>\n",
       "      <td>8.339503e-02</td>\n",
       "    </tr>\n",
       "    <tr>\n",
       "      <th>6</th>\n",
       "      <td>Longitude</td>\n",
       "      <td>-7.392759e+01</td>\n",
       "      <td>7.910171e-02</td>\n",
       "    </tr>\n",
       "  </tbody>\n",
       "</table>\n",
       "</div>"
      ],
      "text/plain": [
       "                  Column Name          mean       std_div\n",
       "0                  Unique Key  4.303587e+07  7.295524e+06\n",
       "1                Incident Zip  1.079975e+04  6.687770e+02\n",
       "2                         BBL  2.706863e+09  1.203044e+09\n",
       "3  X Coordinate (State Plane)  1.004309e+06  2.193337e+04\n",
       "4  Y Coordinate (State Plane)  2.056019e+05  3.038311e+04\n",
       "5                    Latitude  4.073095e+01  8.339503e-02\n",
       "6                   Longitude -7.392759e+01  7.910171e-02"
      ]
     },
     "execution_count": 10,
     "metadata": {},
     "output_type": "execute_result"
    }
   ],
   "source": [
    "# now analyzing numerical data:\n",
    "\n",
    "num = []\n",
    "# looping through all columns and including only numerical data:\n",
    "\n",
    "for i in my_df.select_dtypes(include =['int64','float64']).columns:\n",
    "    record = [] # initialize empty list\n",
    "    record.append(i) #column name\n",
    "    record.append(my_df[i].mean()) # finding mean\n",
    "    record.append(my_df[i].std()) # finding standard deviation\n",
    "\n",
    "    num.append(record) #add record to larger array\n",
    "    \n",
    "# Moving the list to a data frame:\n",
    "columns = ['Column Name','mean','std_div']    \n",
    " \n",
    "num_df = pd.DataFrame(data=num,columns=columns)\n",
    "num_df"
   ]
  },
  {
   "cell_type": "code",
   "execution_count": 12,
   "metadata": {},
   "outputs": [],
   "source": [
    "# exporting the numerical results to an excel sheet for easy manipulation:\n",
    "\n",
    "num_df.to_excel(r'D:\\Yeshiva\\Fall 2021\\m6\\dataset\\num_df.xlsx', index = False)"
   ]
  },
  {
   "cell_type": "markdown",
   "metadata": {},
   "source": [
    "### Part - II: Describe the Dataset and Interpreting your Findings"
   ]
  },
  {
   "cell_type": "markdown",
   "metadata": {},
   "source": [
    "Following are the questions which are to be answered in this part:\n",
    "* Describe at least two data enrichments you could make to this data set\n",
    "* Describe what measures are important and why\n",
    "* What are some of the key metrics that you feel would be important to garner from this data set and why?"
   ]
  },
  {
   "cell_type": "markdown",
   "metadata": {},
   "source": [
    "To answer the above questions, we will do some EDA and see the data:"
   ]
  },
  {
   "cell_type": "code",
   "execution_count": 13,
   "metadata": {},
   "outputs": [
    {
     "data": {
      "text/html": [
       "<div>\n",
       "<style scoped>\n",
       "    .dataframe tbody tr th:only-of-type {\n",
       "        vertical-align: middle;\n",
       "    }\n",
       "\n",
       "    .dataframe tbody tr th {\n",
       "        vertical-align: top;\n",
       "    }\n",
       "\n",
       "    .dataframe thead th {\n",
       "        text-align: right;\n",
       "    }\n",
       "</style>\n",
       "<table border=\"1\" class=\"dataframe\">\n",
       "  <thead>\n",
       "    <tr style=\"text-align: right;\">\n",
       "      <th></th>\n",
       "      <th>Unique Key</th>\n",
       "      <th>Incident Zip</th>\n",
       "      <th>BBL</th>\n",
       "      <th>X Coordinate (State Plane)</th>\n",
       "      <th>Y Coordinate (State Plane)</th>\n",
       "      <th>Latitude</th>\n",
       "      <th>Longitude</th>\n",
       "    </tr>\n",
       "  </thead>\n",
       "  <tbody>\n",
       "    <tr>\n",
       "      <th>count</th>\n",
       "      <td>1.000000e+05</td>\n",
       "      <td>97417.000000</td>\n",
       "      <td>8.503500e+04</td>\n",
       "      <td>9.515000e+04</td>\n",
       "      <td>95152.000000</td>\n",
       "      <td>95150.000000</td>\n",
       "      <td>95150.000000</td>\n",
       "    </tr>\n",
       "    <tr>\n",
       "      <th>mean</th>\n",
       "      <td>4.303587e+07</td>\n",
       "      <td>10799.745907</td>\n",
       "      <td>2.706863e+09</td>\n",
       "      <td>1.004309e+06</td>\n",
       "      <td>205601.863587</td>\n",
       "      <td>40.730954</td>\n",
       "      <td>-73.927590</td>\n",
       "    </tr>\n",
       "    <tr>\n",
       "      <th>std</th>\n",
       "      <td>7.295524e+06</td>\n",
       "      <td>668.776958</td>\n",
       "      <td>1.203044e+09</td>\n",
       "      <td>2.193337e+04</td>\n",
       "      <td>30383.113724</td>\n",
       "      <td>0.083395</td>\n",
       "      <td>0.079102</td>\n",
       "    </tr>\n",
       "    <tr>\n",
       "      <th>min</th>\n",
       "      <td>1.566796e+07</td>\n",
       "      <td>0.000000</td>\n",
       "      <td>0.000000e+00</td>\n",
       "      <td>9.133530e+05</td>\n",
       "      <td>121318.000000</td>\n",
       "      <td>40.499409</td>\n",
       "      <td>-74.254952</td>\n",
       "    </tr>\n",
       "    <tr>\n",
       "      <th>25%</th>\n",
       "      <td>4.272829e+07</td>\n",
       "      <td>10304.000000</td>\n",
       "      <td>2.024620e+09</td>\n",
       "      <td>9.916750e+05</td>\n",
       "      <td>184228.750000</td>\n",
       "      <td>40.672263</td>\n",
       "      <td>-73.973226</td>\n",
       "    </tr>\n",
       "    <tr>\n",
       "      <th>50%</th>\n",
       "      <td>4.508785e+07</td>\n",
       "      <td>11203.000000</td>\n",
       "      <td>3.019030e+09</td>\n",
       "      <td>1.002750e+06</td>\n",
       "      <td>203097.000000</td>\n",
       "      <td>40.724051</td>\n",
       "      <td>-73.933266</td>\n",
       "    </tr>\n",
       "    <tr>\n",
       "      <th>75%</th>\n",
       "      <td>4.596339e+07</td>\n",
       "      <td>11234.000000</td>\n",
       "      <td>4.006585e+09</td>\n",
       "      <td>1.016302e+06</td>\n",
       "      <td>231059.250000</td>\n",
       "      <td>40.800866</td>\n",
       "      <td>-73.884252</td>\n",
       "    </tr>\n",
       "    <tr>\n",
       "      <th>max</th>\n",
       "      <td>5.227668e+07</td>\n",
       "      <td>92054.000000</td>\n",
       "      <td>5.080480e+09</td>\n",
       "      <td>1.067123e+06</td>\n",
       "      <td>271876.000000</td>\n",
       "      <td>40.912869</td>\n",
       "      <td>-73.700935</td>\n",
       "    </tr>\n",
       "  </tbody>\n",
       "</table>\n",
       "</div>"
      ],
      "text/plain": [
       "         Unique Key  Incident Zip           BBL  X Coordinate (State Plane)  \\\n",
       "count  1.000000e+05  97417.000000  8.503500e+04                9.515000e+04   \n",
       "mean   4.303587e+07  10799.745907  2.706863e+09                1.004309e+06   \n",
       "std    7.295524e+06    668.776958  1.203044e+09                2.193337e+04   \n",
       "min    1.566796e+07      0.000000  0.000000e+00                9.133530e+05   \n",
       "25%    4.272829e+07  10304.000000  2.024620e+09                9.916750e+05   \n",
       "50%    4.508785e+07  11203.000000  3.019030e+09                1.002750e+06   \n",
       "75%    4.596339e+07  11234.000000  4.006585e+09                1.016302e+06   \n",
       "max    5.227668e+07  92054.000000  5.080480e+09                1.067123e+06   \n",
       "\n",
       "       Y Coordinate (State Plane)      Latitude     Longitude  \n",
       "count                95152.000000  95150.000000  95150.000000  \n",
       "mean                205601.863587     40.730954    -73.927590  \n",
       "std                  30383.113724      0.083395      0.079102  \n",
       "min                 121318.000000     40.499409    -74.254952  \n",
       "25%                 184228.750000     40.672263    -73.973226  \n",
       "50%                 203097.000000     40.724051    -73.933266  \n",
       "75%                 231059.250000     40.800866    -73.884252  \n",
       "max                 271876.000000     40.912869    -73.700935  "
      ]
     },
     "execution_count": 13,
     "metadata": {},
     "output_type": "execute_result"
    }
   ],
   "source": [
    "# Description of the dataset:\n",
    "my_df.describe()"
   ]
  },
  {
   "cell_type": "code",
   "execution_count": 14,
   "metadata": {},
   "outputs": [
    {
     "name": "stdout",
     "output_type": "stream",
     "text": [
      "<class 'pandas.core.frame.DataFrame'>\n",
      "RangeIndex: 100000 entries, 0 to 99999\n",
      "Data columns (total 41 columns):\n",
      " #   Column                          Non-Null Count   Dtype  \n",
      "---  ------                          --------------   -----  \n",
      " 0   Unique Key                      100000 non-null  int64  \n",
      " 1   Created Date                    100000 non-null  object \n",
      " 2   Closed Date                     95635 non-null   object \n",
      " 3   Agency                          100000 non-null  object \n",
      " 4   Agency Name                     100000 non-null  object \n",
      " 5   Complaint Type                  100000 non-null  object \n",
      " 6   Descriptor                      97734 non-null   object \n",
      " 7   Location Type                   66130 non-null   object \n",
      " 8   Incident Zip                    97417 non-null   float64\n",
      " 9   Incident Address                93541 non-null   object \n",
      " 10  Street Name                     93536 non-null   object \n",
      " 11  Cross Street 1                  71144 non-null   object \n",
      " 12  Cross Street 2                  70915 non-null   object \n",
      " 13  Intersection Street 1           59766 non-null   object \n",
      " 14  Intersection Street 2           59717 non-null   object \n",
      " 15  Address Type                    54898 non-null   object \n",
      " 16  City                            94163 non-null   object \n",
      " 17  Landmark                        43127 non-null   object \n",
      " 18  Facility Type                   4092 non-null    object \n",
      " 19  Status                          100000 non-null  object \n",
      " 20  Due Date                        16803 non-null   object \n",
      " 21  Resolution Description          97987 non-null   object \n",
      " 22  Resolution Action Updated Date  98605 non-null   object \n",
      " 23  Community Board                 99727 non-null   object \n",
      " 24  BBL                             85035 non-null   float64\n",
      " 25  Borough                         99727 non-null   object \n",
      " 26  X Coordinate (State Plane)      95150 non-null   float64\n",
      " 27  Y Coordinate (State Plane)      95152 non-null   float64\n",
      " 28  Open Data Channel Type          100000 non-null  object \n",
      " 29  Park Facility Name              100000 non-null  object \n",
      " 30  Park Borough                    99727 non-null   object \n",
      " 31  Vehicle Type                    40 non-null      object \n",
      " 32  Taxi Company Borough            109 non-null     object \n",
      " 33  Taxi Pick Up Location           1495 non-null    object \n",
      " 34  Bridge Highway Name             99 non-null      object \n",
      " 35  Bridge Highway Direction        94 non-null      object \n",
      " 36  Road Ramp                       92 non-null      object \n",
      " 37  Bridge Highway Segment          147 non-null     object \n",
      " 38  Latitude                        95150 non-null   float64\n",
      " 39  Longitude                       95150 non-null   float64\n",
      " 40  Location                        95150 non-null   object \n",
      "dtypes: float64(6), int64(1), object(34)\n",
      "memory usage: 31.3+ MB\n"
     ]
    }
   ],
   "source": [
    "# Now, we will check the information of the dataset:\n",
    "my_df.info()"
   ]
  },
  {
   "cell_type": "code",
   "execution_count": 15,
   "metadata": {},
   "outputs": [
    {
     "data": {
      "text/plain": [
       "(100000, 41)"
      ]
     },
     "execution_count": 15,
     "metadata": {},
     "output_type": "execute_result"
    }
   ],
   "source": [
    "# Let's view the shape of our dataframe:\n",
    "my_df.shape"
   ]
  },
  {
   "cell_type": "markdown",
   "metadata": {},
   "source": [
    "###  1. Describe at least two data enrichments you could make to this data set?\n",
    "\n",
    "From my online research I fount out that there are primarily two types of data enrichments which one can make to their dataset, these are as follows:\n",
    "\n",
    "#### 1. Demographic Data Enrichment:\n",
    "\n",
    "This type of data enrichment takes into the loop of information like marital status, age, income, gender, etc.\n",
    "\n",
    "\n",
    "#### 2. Geographic Data Enrichment:\n",
    "\n",
    "This type of data enrichment takes into the loop of geographic information like address, city, state, zip code, etc.\n",
    "\n",
    "So in my opinion, the demographic dataset inclusion to the existing dataset won't provide that much information since in the current dataset of 311 we don't have data on a demographic level. We don't have information on the name of the complainant, so even if we somehow get demographic data we won't be able to connect it successfully to generate accurate insights using current data.\n",
    "\n",
    "\n",
    "So I think the geographic dataset inclusion will be helpful in generating more meaningful information since in the current dataset we store geographic dataset information."
   ]
  },
  {
   "cell_type": "markdown",
   "metadata": {},
   "source": [
    "###  2. Describe what measures are important and why?\n",
    "\n",
    "In my opinion, I think the most important measures are 'Latitude' and 'Longitude' which give actionable information of the location where the incident took place. I don't think the other measures like 'Unique Key', 'Zip Code' or 'BBL' give any actionable information. Since, even though these are measures and are numeric. \n",
    "\n",
    "These still don't give any information which can be used for insights because a mean or standard deviation of zip code, unique key or BBL  doesn't mean anything."
   ]
  },
  {
   "cell_type": "markdown",
   "metadata": {},
   "source": [
    "### 3. What are some of the key metrics that you feel would be important to garner from this data set and why?"
   ]
  },
  {
   "cell_type": "markdown",
   "metadata": {},
   "source": [
    "Some important metrics which we can generate from this dataset are as follows:\n",
    "1. Show top agencies to whom a complaint was made.\n",
    "2. Show top zip codes and locations where most of the complaints were filed.\n",
    "3. Which vechicle types are mostly involved in the cases.\n",
    "4. Which bridge highway has the most incidents?\n",
    "5. Which incidents took most in a specific city?\n",
    "6. Type of complaints and their counts.\n",
    "7. Which borough has the most complaints and incidents?\n",
    "8. Which facility types are involved in the accident? "
   ]
  },
  {
   "cell_type": "markdown",
   "metadata": {},
   "source": [
    "### Part - III: Visualize your findings:"
   ]
  },
  {
   "cell_type": "markdown",
   "metadata": {},
   "source": [
    "#### 1. Bar plot for top Agencies which received most of the complaints:"
   ]
  },
  {
   "cell_type": "code",
   "execution_count": 101,
   "metadata": {},
   "outputs": [
    {
     "data": {
      "text/plain": [
       "<matplotlib.legend.Legend at 0x22d98170940>"
      ]
     },
     "execution_count": 101,
     "metadata": {},
     "output_type": "execute_result"
    },
    {
     "data": {
      "image/png": "[encoded data removed]",
      "text/plain": [
       "<Figure size 1080x360 with 1 Axes>"
      ]
     },
     "metadata": {
      "needs_background": "light"
     },
     "output_type": "display_data"
    }
   ],
   "source": [
    "agency_plot = my_df['Agency'].value_counts().plot(kind='bar')\n",
    "agency_plot.set_xlabel('Agency Accronym',fontweight ='bold', fontsize = 10)\n",
    "agency_plot.set_ylabel('Count in Complaints',fontweight ='bold', fontsize = 10)\n",
    "plt.gcf().set_size_inches(15,5)\n",
    "plt.legend()"
   ]
  },
  {
   "cell_type": "markdown",
   "metadata": {},
   "source": [
    "#### 2. Bar plot for top Zip Codes which received most of the complaints:"
   ]
  },
  {
   "cell_type": "code",
   "execution_count": 100,
   "metadata": {},
   "outputs": [
    {
     "name": "stderr",
     "output_type": "stream",
     "text": [
      "No handles with labels found to put in legend.\n"
     ]
    },
    {
     "data": {
      "text/plain": [
       "<matplotlib.legend.Legend at 0x22d980a5e80>"
      ]
     },
     "execution_count": 100,
     "metadata": {},
     "output_type": "execute_result"
    },
    {
     "data": {
      "image/png": "[encoded data removed]",
      "text/plain": [
       "<Figure size 1080x360 with 1 Axes>"
      ]
     },
     "metadata": {
      "needs_background": "light"
     },
     "output_type": "display_data"
    }
   ],
   "source": [
    "zip_plot = sns.countplot(y=\"Incident Zip\", data=my_df, palette=\"Greens_d\",\n",
    "              order=my_df['Incident Zip'].value_counts().iloc[:10].index)\n",
    "plt.title(\"Top Ten Zip Codes\",fontweight ='bold', fontsize = 15)\n",
    "zip_plot.set_xlabel('Count of Zip Code Involved in Complaints',fontweight ='bold', fontsize = 10)\n",
    "zip_plot.set_ylabel('Zip Codes',fontweight ='bold', fontsize = 10)\n",
    "plt.gcf().set_size_inches(15,5)\n",
    "plt.legend()"
   ]
  },
  {
   "cell_type": "markdown",
   "metadata": {},
   "source": [
    "#### 3. Bar plot for top locations which received most of the complaints:"
   ]
  },
  {
   "cell_type": "code",
   "execution_count": 99,
   "metadata": {},
   "outputs": [
    {
     "name": "stderr",
     "output_type": "stream",
     "text": [
      "No handles with labels found to put in legend.\n"
     ]
    },
    {
     "data": {
      "text/plain": [
       "<matplotlib.legend.Legend at 0x22d97612790>"
      ]
     },
     "execution_count": 99,
     "metadata": {},
     "output_type": "execute_result"
    },
    {
     "data": {
      "image/png": "[encoded data removed]",
      "text/plain": [
       "<Figure size 1080x360 with 1 Axes>"
      ]
     },
     "metadata": {
      "needs_background": "light"
     },
     "output_type": "display_data"
    }
   ],
   "source": [
    "loc_plot = sns.countplot(y=\"Location\", data=my_df, palette=\"tab10\",\n",
    "              order=my_df['Location'].value_counts().iloc[:10].index)\n",
    "plt.title(\"Top Ten Locations\",fontweight ='bold', fontsize = 15)\n",
    "loc_plot.set_xlabel('Count of Locations Involved in Complaints',fontweight ='bold', fontsize = 10)\n",
    "loc_plot.set_ylabel('Location Lat & Long',fontweight ='bold', fontsize = 10)\n",
    "plt.gcf().set_size_inches(15,5)\n",
    "plt.legend()"
   ]
  },
  {
   "cell_type": "markdown",
   "metadata": {},
   "source": [
    "#### 4. Scatter plot for latitudes and longitude of the complaints:"
   ]
  },
  {
   "cell_type": "code",
   "execution_count": 48,
   "metadata": {
    "scrolled": true
   },
   "outputs": [
    {
     "data": {
      "image/png": "[encoded data removed]",
      "text/plain": [
       "<Figure size 720x504 with 2 Axes>"
      ]
     },
     "metadata": {
      "needs_background": "light"
     },
     "output_type": "display_data"
    }
   ],
   "source": [
    "my_df.plot(kind=\"scatter\", x=\"Longitude\", y=\"Latitude\", label='Unique Key',cmap=plt.get_cmap(\"jet\"),\n",
    "    colorbar=True, alpha=0.4, figsize=(10,7),\n",
    ")\n",
    "plt.legend()\n",
    "plt.show()"
   ]
  },
  {
   "cell_type": "markdown",
   "metadata": {},
   "source": [
    "#### 5. Bar plot for vehicle types for the complaints:"
   ]
  },
  {
   "cell_type": "code",
   "execution_count": 97,
   "metadata": {
    "scrolled": true
   },
   "outputs": [
    {
     "data": {
      "text/plain": [
       "<matplotlib.legend.Legend at 0x22d973d5d90>"
      ]
     },
     "execution_count": 97,
     "metadata": {},
     "output_type": "execute_result"
    },
    {
     "data": {
      "image/png": "[encoded data removed]",
      "text/plain": [
       "<Figure size 1080x360 with 1 Axes>"
      ]
     },
     "metadata": {
      "needs_background": "light"
     },
     "output_type": "display_data"
    }
   ],
   "source": [
    "vehicle_plot = my_df['Vehicle Type'].value_counts().plot(kind='barh')\n",
    "plt.title(\"Top Car Service Type for the complaints\",fontweight ='bold', fontsize = 15)\n",
    "vehicle_plot.set_xlabel('Type of Car',fontweight ='bold', fontsize = 10)\n",
    "vehicle_plot.set_ylabel('Count of Type of Cars',fontweight ='bold', fontsize = 10)\n",
    "plt.gcf().set_size_inches(15,5)\n",
    "plt.legend()"
   ]
  },
  {
   "cell_type": "markdown",
   "metadata": {},
   "source": [
    "#### 6. Plot for bridge highways associated with the complaints:"
   ]
  },
  {
   "cell_type": "code",
   "execution_count": 96,
   "metadata": {},
   "outputs": [
    {
     "name": "stderr",
     "output_type": "stream",
     "text": [
      "No handles with labels found to put in legend.\n"
     ]
    },
    {
     "data": {
      "text/plain": [
       "<matplotlib.legend.Legend at 0x22d96c5adf0>"
      ]
     },
     "execution_count": 96,
     "metadata": {},
     "output_type": "execute_result"
    },
    {
     "data": {
      "image/png": "[encoded data removed]",
      "text/plain": [
       "<Figure size 720x864 with 1 Axes>"
      ]
     },
     "metadata": {
      "needs_background": "light"
     },
     "output_type": "display_data"
    }
   ],
   "source": [
    "bridge_plot = sns.countplot(y=\"Bridge Highway Name\", data=my_df, palette=\"Set2\",\n",
    "              order=my_df['Bridge Highway Name'].value_counts().iloc[:5].index)\n",
    "plt.title(\"Top 5 Highways in Complaints\",fontweight ='bold', fontsize = 15)\n",
    "bridge_plot.set_xlabel('Count of Highways Involved in Complaints',fontweight ='bold', fontsize = 10)\n",
    "bridge_plot.set_ylabel('Bridge Highway Name',fontweight ='bold', fontsize = 10)\n",
    "plt.gcf().set_size_inches(10,12)\n",
    "plt.legend()"
   ]
  },
  {
   "cell_type": "markdown",
   "metadata": {},
   "source": [
    "#### 7. Plot for top 10 cities associated with the complaints:"
   ]
  },
  {
   "cell_type": "code",
   "execution_count": 95,
   "metadata": {},
   "outputs": [
    {
     "name": "stderr",
     "output_type": "stream",
     "text": [
      "No handles with labels found to put in legend.\n"
     ]
    },
    {
     "data": {
      "text/plain": [
       "<matplotlib.legend.Legend at 0x22d91449130>"
      ]
     },
     "execution_count": 95,
     "metadata": {},
     "output_type": "execute_result"
    },
    {
     "data": {
      "image/png": "[encoded data removed]",
      "text/plain": [
       "<Figure size 1080x360 with 1 Axes>"
      ]
     },
     "metadata": {
      "needs_background": "light"
     },
     "output_type": "display_data"
    }
   ],
   "source": [
    "city_plot = sns.countplot(y=\"City\", data=my_df, palette=\"Paired\",\n",
    "              order=my_df['City'].value_counts().iloc[:10].index)\n",
    "plt.title(\"Top Ten Cities Involved in the Incidents\",fontweight ='bold', fontsize = 15)\n",
    "city_plot.set_xlabel('Count of Complaints',fontweight ='bold', fontsize = 10)\n",
    "city_plot.set_ylabel('Name of Cities',fontweight ='bold', fontsize = 10)\n",
    "plt.gcf().set_size_inches(15,5)\n",
    "plt.legend()"
   ]
  },
  {
   "cell_type": "markdown",
   "metadata": {},
   "source": [
    "#### 8. Plot for type of complaints:"
   ]
  },
  {
   "cell_type": "code",
   "execution_count": 94,
   "metadata": {},
   "outputs": [
    {
     "name": "stderr",
     "output_type": "stream",
     "text": [
      "No handles with labels found to put in legend.\n"
     ]
    },
    {
     "data": {
      "text/plain": [
       "<matplotlib.legend.Legend at 0x22d96bb9af0>"
      ]
     },
     "execution_count": 94,
     "metadata": {},
     "output_type": "execute_result"
    },
    {
     "data": {
      "image/png": "[encoded data removed]",
      "text/plain": [
       "<Figure size 1080x360 with 1 Axes>"
      ]
     },
     "metadata": {
      "needs_background": "light"
     },
     "output_type": "display_data"
    }
   ],
   "source": [
    "type_plot = sns.countplot(y=\"Complaint Type\", data=my_df, palette=\"Paired\",\n",
    "              order=my_df['Complaint Type'].value_counts().iloc[:10].index)\n",
    "plt.title(\"Top Type of the complaints\",fontweight ='bold', fontsize = 15)\n",
    "type_plot.set_xlabel('Count of Complaint Types',fontweight ='bold', fontsize = 10)\n",
    "type_plot.set_ylabel('Type of Complaints',fontweight ='bold', fontsize = 10)\n",
    "plt.gcf().set_size_inches(15,5)\n",
    "plt.legend()"
   ]
  },
  {
   "cell_type": "markdown",
   "metadata": {},
   "source": [
    "#### 9. Plot for the borough with the most complaints:"
   ]
  },
  {
   "cell_type": "code",
   "execution_count": 93,
   "metadata": {},
   "outputs": [
    {
     "data": {
      "text/plain": [
       "<matplotlib.legend.Legend at 0x22d96b85700>"
      ]
     },
     "execution_count": 93,
     "metadata": {},
     "output_type": "execute_result"
    },
    {
     "data": {
      "image/png": "[encoded data removed]",
      "text/plain": [
       "<Figure size 1080x360 with 1 Axes>"
      ]
     },
     "metadata": {
      "needs_background": "light"
     },
     "output_type": "display_data"
    }
   ],
   "source": [
    "bor_plot = my_df['Borough'].value_counts().plot(kind='barh')\n",
    "plt.title(\"Top Boroughs Associated for the complaints\",fontweight ='bold', fontsize = 15)\n",
    "bor_plot.set_xlabel('Count of Complaints',fontweight ='bold', fontsize = 10)\n",
    "bor_plot.set_ylabel('Borough Name',fontweight ='bold', fontsize = 10)\n",
    "plt.gcf().set_size_inches(15,5)\n",
    "plt.legend()"
   ]
  },
  {
   "cell_type": "markdown",
   "metadata": {},
   "source": [
    "#### 10. Plot for facility types associated with the complaints:"
   ]
  },
  {
   "cell_type": "code",
   "execution_count": 103,
   "metadata": {},
   "outputs": [
    {
     "data": {
      "text/plain": [
       "<matplotlib.legend.Legend at 0x22d97466130>"
      ]
     },
     "execution_count": 103,
     "metadata": {},
     "output_type": "execute_result"
    },
    {
     "data": {
      "image/png": "[encoded data removed]",
      "text/plain": [
       "<Figure size 1080x360 with 1 Axes>"
      ]
     },
     "metadata": {
      "needs_background": "light"
     },
     "output_type": "display_data"
    }
   ],
   "source": [
    "facility_plot = my_df['Facility Type'].value_counts().plot(kind='barh')\n",
    "plt.title(\"Type of Facility Types Associated for the complaints\",fontweight ='bold', fontsize = 15)\n",
    "facility_plot.set_xlabel('Count of Complaints',fontweight ='bold', fontsize = 10)\n",
    "facility_plot.set_ylabel('Facility Type',fontweight ='bold', fontsize = 10)\n",
    "plt.gcf().set_size_inches(15,5)\n",
    "plt.legend()"
   ]
  },
  {
   "cell_type": "markdown",
   "metadata": {},
   "source": [
    "### References:"
   ]
  },
  {
   "cell_type": "markdown",
   "metadata": {},
   "source": [
    "* https://www.redpointglobal.com/blog/what-is-data-enrichment/\n",
    "* https://snowplowanalytics.com/blog/2021/06/23/what-is-data-enrichment-and-how-to-implement-it/\n",
    "* https://www.geeksforgeeks.org/matplotlib-pyplot-title-in-python/\n",
    "* https://seaborn.pydata.org/tutorial/color_palettes.html\n",
    "* https://stackoverflow.com/questions/53233228/plot-latitude-longitude-from-csv-in-python-3-6\n",
    "* https://towardsdatascience.com/using-geopandas-for-spatial-visualization-21e78984dc37"
   ]
  }
 ],
 "metadata": {
  "kernelspec": {
   "display_name": "Python 3",
   "language": "python",
   "name": "python3"
  },
  "language_info": {
   "codemirror_mode": {
    "name": "ipython",
    "version": 3
   },
   "file_extension": ".py",
   "mimetype": "text/x-python",
   "name": "python",
   "nbconvert_exporter": "python",
   "pygments_lexer": "ipython3",
   "version": "3.8.8"
  }
 },
 "nbformat": 4,
 "nbformat_minor": 4
}
